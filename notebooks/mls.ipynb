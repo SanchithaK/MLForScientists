{
  "nbformat": 4,
  "nbformat_minor": 0,
  "metadata": {
    "colab": {
      "provenance": []
    },
    "kernelspec": {
      "name": "python3",
      "display_name": "Python 3"
    },
    "language_info": {
      "name": "python"
    }
  },
  "cells": [
    {
      "cell_type": "code",
      "execution_count": null,
      "metadata": {
        "colab": {
          "base_uri": "https://localhost:8080/"
        },
        "id": "NN5gT9xHQOgS",
        "outputId": "93a33105-95e8-4f76-cb66-7ec92ecaae0c"
      },
      "outputs": [
        {
          "output_type": "stream",
          "name": "stdout",
          "text": [
            "Cloning into 'MLForScientists'...\n",
            "fatal: could not read Username for 'https://github.com': No such device or address\n"
          ]
        }
      ],
      "source": [
        "!git clone https://github.com/SanchithaK/MLForScientists.git"
      ]
    },
    {
      "cell_type": "code",
      "source": [
        "python3 /content/main.py"
      ],
      "metadata": {
        "id": "Mdysjb-iUHge"
      },
      "execution_count": null,
      "outputs": []
    },
    {
      "cell_type": "code",
      "source": [
        "!wget https://datasets.cellxgene.cziscience.com/2808a16d-64c5-451b-91a5-c1a2d9f270d5.h5ad -O dataset.h5ad"
      ],
      "metadata": {
        "id": "rR_NYWNcQdGl"
      },
      "execution_count": null,
      "outputs": []
    },
    {
      "cell_type": "code",
      "source": [
        "!pip install scanpy"
      ],
      "metadata": {
        "id": "IBU-jFE6TN0t"
      },
      "execution_count": null,
      "outputs": []
    },
    {
      "cell_type": "code",
      "source": [
        "import scanpy as sc\n",
        "import numpy as np\n",
        "import pandas as pd\n",
        "\n",
        "\n",
        "adata = sc.read_h5ad(\"/content/dataset.h5ad\")\n",
        "print(adata)"
      ],
      "metadata": {
        "id": "BDBgbUrRTSUS"
      },
      "execution_count": null,
      "outputs": []
    },
    {
      "cell_type": "code",
      "source": [
        "sc.pp.filter_genes(adata, min_counts=10)\n",
        "sc.pp.normalize_total(adata, target_sum=1e6)\n",
        "sc.pp.log1p(adata)\n",
        "sc.pp.highly_variable_genes(adata, n_top_genes=100)\n",
        "adata = adata[:, adata.var['highly_variable']]"
      ],
      "metadata": {
        "id": "FNvprG1sTVKj"
      },
      "execution_count": null,
      "outputs": []
    },
    {
      "cell_type": "code",
      "source": [
        "X = adata.X  # shape: (samples/cells, genes) – may be sparse\n",
        "y = adata.obs['disease'].values  # finding target labels\n",
        "rand_indices = np.random.choice(Xfull.shape[0], size=Xfull.shape[0]//800, replace=False)\n",
        "print(len(rand_indices))\n",
        "X_subset = Xfull[rand_indices,:100]\n",
        "y_subset = y[rand_indices]\n",
        "X_subset_df = pd.DataFrame(X_subset)\n",
        "y_subset_df = pd.DataFrame(y_subset)\n",
        "X_subset_df.to_csv(\"expression_matrix.csv\",index=False)\n",
        "y_subset_df.to_csv(\"labels.csv\",index=False)"
      ],
      "metadata": {
        "id": "rJ6yOvE2TqlF"
      },
      "execution_count": null,
      "outputs": []
    },
    {
      "cell_type": "code",
      "source": [],
      "metadata": {
        "id": "Tj_yaVCHTigy"
      },
      "execution_count": null,
      "outputs": []
    }
  ]
}