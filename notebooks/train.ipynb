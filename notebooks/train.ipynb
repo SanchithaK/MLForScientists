{
 "cells": [
  {
   "cell_type": "code",
   "execution_count": 12,
   "id": "229db986-60b2-48ec-b2be-a3b33bfe6197",
   "metadata": {},
   "outputs": [],
   "source": [
    "from sklearn.ensemble import GradientBoostingRegressor\n",
    "from sklearn.datasets import make_regression\n",
    "import numpy as np\n",
    "from sklearn.model_selection import cross_val_score\n",
    "from sklearn.datasets import load_diabetes\n",
    "from sklearn.model_selection import train_test_split\n"
   ]
  },
  {
   "cell_type": "markdown",
   "id": "439c72c3-12d8-486e-b170-0a8b190e4e57",
   "metadata": {},
   "source": [
    "### Create regression synthetic dataset"
   ]
  },
  {
   "cell_type": "code",
   "execution_count": 14,
   "id": "0cdd5eea-fadb-4163-bbc3-3e0f06833a67",
   "metadata": {},
   "outputs": [
    {
     "name": "stdout",
     "output_type": "stream",
     "text": [
      "90 10\n"
     ]
    }
   ],
   "source": [
    "X, y = make_regression(n_samples=100, n_features=5, noise=1, random_state=42)\n",
    "X_train, X_test, y_train, y_test = train_test_split(X, y, random_state=29,train_size=0.9,)\n",
    "print(X_train.shape[0],X_test.shape[0])\n",
    "X_test, X_val, y_test, y_val = train_test_split(\n",
    "    X_test, y_test, random_state=29,train_size=0.9\n",
    ")\n",
    "# diabetes = load_diabetes()\n",
    "# X, y = diabetes.data, diabetes.target\n",
    "# n_features = X.shape[1]"
   ]
  },
  {
   "cell_type": "markdown",
   "id": "2488c8df-b153-4433-8284-0d5cd22b2be0",
   "metadata": {},
   "source": [
    "### Initialize model"
   ]
  },
  {
   "cell_type": "code",
   "execution_count": 3,
   "id": "a90c84fa-7acf-4a5f-b0e0-62861585ec23",
   "metadata": {},
   "outputs": [],
   "source": [
    "# gradient boosted trees tend to do well on problems like this\n",
    "reg = GradientBoostingRegressor(n_estimators=50, random_state=29)\n"
   ]
  },
  {
   "cell_type": "markdown",
   "id": "6dfe45c2-0ed5-4be5-b6c6-49b2d26db7fb",
   "metadata": {},
   "source": [
    "### Hyperparameter tuning"
   ]
  },
  {
   "cell_type": "code",
   "execution_count": 15,
   "id": "8b62a82c-e651-4b00-8f30-c19a7dfee4de",
   "metadata": {},
   "outputs": [],
   "source": [
    "from skopt.space import Real, Integer\n",
    "from skopt.utils import use_named_args\n",
    "\n",
    "n_features = X.shape[1]\n",
    "# The list of hyper-parameters we want to optimize. For each one we define the\n",
    "# bounds, the corresponding scikit-learn parameter name, as well as how to\n",
    "# sample values from that dimension (`'log-uniform'` for the learning rate)\n",
    "space  = [Integer(1, 5, name='max_depth'),\n",
    "          Real(10**-5, 10**0, \"log-uniform\", name='learning_rate'),\n",
    "          Integer(1, n_features, name='max_features'),\n",
    "          Integer(2, 100, name='min_samples_split'),\n",
    "          Integer(1, 100, name='min_samples_leaf')]\n",
    "\n",
    "\n",
    "# this decorator allows your objective function to receive a the parameters as\n",
    "# keyword arguments. This is particularly convenient when you want to set\n",
    "# scikit-learn estimator parameters\n",
    "{\"a\":1,\"b\":2}\n",
    "objective(a=1,b=2)\n",
    "@use_named_args(space)\n",
    "def objective(**params):\n",
    "    reg.set_params(**params)\n",
    "\n",
    "    return -np.mean(cross_val_score(reg, X_train, y_train, cv=5, n_jobs=-1,\n",
    "                                    scoring=\"neg_mean_absolute_error\"))"
   ]
  },
  {
   "cell_type": "markdown",
   "id": "db15ea2a-eca6-4544-bd3c-a8db37dd28c1",
   "metadata": {},
   "source": [
    "### Get best model parameters"
   ]
  },
  {
   "cell_type": "code",
   "execution_count": 5,
   "id": "a3d92600-e789-4e90-9955-a601a3dfe59f",
   "metadata": {},
   "outputs": [
    {
     "data": {
      "text/plain": [
       "'Best score=48.5300'"
      ]
     },
     "execution_count": 5,
     "metadata": {},
     "output_type": "execute_result"
    }
   ],
   "source": [
    "from skopt import gp_minimize\n",
    "res_gp = gp_minimize(objective, space, n_calls=50, random_state=0)\n",
    "\"Best score=%.4f\" % res_gp.fun"
   ]
  },
  {
   "cell_type": "code",
   "execution_count": 6,
   "id": "2a496451-7ec7-46a2-a0f0-196dda7bf0f6",
   "metadata": {},
   "outputs": [
    {
     "name": "stdout",
     "output_type": "stream",
     "text": [
      "Best parameters:\n",
      "- max_depth=4\n",
      "- learning_rate=0.168623\n",
      "- max_features=2\n",
      "- min_samples_split=2\n",
      "- min_samples_leaf=20\n"
     ]
    }
   ],
   "source": [
    "print(\"\"\"Best parameters:\n",
    "- max_depth=%d\n",
    "- learning_rate=%.6f\n",
    "- max_features=%d\n",
    "- min_samples_split=%d\n",
    "- min_samples_leaf=%d\"\"\" % (res_gp.x[0], res_gp.x[1],\n",
    "                            res_gp.x[2], res_gp.x[3],\n",
    "                            res_gp.x[4]))\n"
   ]
  },
  {
   "cell_type": "markdown",
   "id": "7532bd46-4a41-4862-a859-4e3246ab1777",
   "metadata": {},
   "source": [
    "### Feature importance"
   ]
  },
  {
   "cell_type": "code",
   "execution_count": 16,
   "id": "f9af7569-8c3f-4ca9-a518-9335e28c7e14",
   "metadata": {},
   "outputs": [],
   "source": [
    "reg_fitted = GradientBoostingRegressor(max_depth=4,\n",
    "learning_rate=0.168623,\n",
    "max_features=2,\n",
    "min_samples_split=2,\n",
    "min_samples_leaf=20).fit(X,y)\n"
   ]
  },
  {
   "cell_type": "code",
   "execution_count": 17,
   "id": "fc165ab6-ea8e-4c13-9ec3-f3b00c744a2d",
   "metadata": {},
   "outputs": [
    {
     "ename": "ValueError",
     "evalue": "continuous is not supported",
     "output_type": "error",
     "traceback": [
      "\u001b[0;31m---------------------------------------------------------------------------\u001b[0m",
      "\u001b[0;31mValueError\u001b[0m                                Traceback (most recent call last)",
      "Cell \u001b[0;32mIn[17], line 3\u001b[0m\n\u001b[1;32m      1\u001b[0m \u001b[38;5;28;01mfrom\u001b[39;00m\u001b[38;5;250m \u001b[39m\u001b[38;5;21;01msklearn\u001b[39;00m\u001b[38;5;21;01m.\u001b[39;00m\u001b[38;5;21;01minspection\u001b[39;00m\u001b[38;5;250m \u001b[39m\u001b[38;5;28;01mimport\u001b[39;00m permutation_importance\n\u001b[1;32m      2\u001b[0m \u001b[38;5;66;03m# Assuming model, X_val, and y_val are defined\u001b[39;00m\n\u001b[0;32m----> 3\u001b[0m results \u001b[38;5;241m=\u001b[39m \u001b[43mpermutation_importance\u001b[49m\u001b[43m(\u001b[49m\u001b[43mreg_fitted\u001b[49m\u001b[43m,\u001b[49m\u001b[43m \u001b[49m\u001b[43mX_val\u001b[49m\u001b[43m,\u001b[49m\u001b[43m \u001b[49m\u001b[43my_val\u001b[49m\u001b[43m,\u001b[49m\u001b[43m \u001b[49m\u001b[43mscoring\u001b[49m\u001b[38;5;241;43m=\u001b[39;49m\u001b[38;5;124;43m'\u001b[39;49m\u001b[38;5;124;43maccuracy\u001b[39;49m\u001b[38;5;124;43m'\u001b[39;49m\u001b[43m)\u001b[49m\n\u001b[1;32m      4\u001b[0m importances \u001b[38;5;241m=\u001b[39m results\u001b[38;5;241m.\u001b[39mimportances_mean\n\u001b[1;32m      5\u001b[0m importances\n",
      "File \u001b[0;32m~/miniconda3/envs/mlp/lib/python3.9/site-packages/sklearn/inspection/_permutation_importance.py:256\u001b[0m, in \u001b[0;36mpermutation_importance\u001b[0;34m(estimator, X, y, scoring, n_repeats, n_jobs, random_state, sample_weight, max_samples)\u001b[0m\n\u001b[1;32m    253\u001b[0m     scorers_dict \u001b[38;5;241m=\u001b[39m _check_multimetric_scoring(estimator, scoring)\n\u001b[1;32m    254\u001b[0m     scorer \u001b[38;5;241m=\u001b[39m _MultimetricScorer(scorers\u001b[38;5;241m=\u001b[39mscorers_dict)\n\u001b[0;32m--> 256\u001b[0m baseline_score \u001b[38;5;241m=\u001b[39m \u001b[43m_weights_scorer\u001b[49m\u001b[43m(\u001b[49m\u001b[43mscorer\u001b[49m\u001b[43m,\u001b[49m\u001b[43m \u001b[49m\u001b[43mestimator\u001b[49m\u001b[43m,\u001b[49m\u001b[43m \u001b[49m\u001b[43mX\u001b[49m\u001b[43m,\u001b[49m\u001b[43m \u001b[49m\u001b[43my\u001b[49m\u001b[43m,\u001b[49m\u001b[43m \u001b[49m\u001b[43msample_weight\u001b[49m\u001b[43m)\u001b[49m\n\u001b[1;32m    258\u001b[0m scores \u001b[38;5;241m=\u001b[39m Parallel(n_jobs\u001b[38;5;241m=\u001b[39mn_jobs)(\n\u001b[1;32m    259\u001b[0m     delayed(_calculate_permutation_scores)(\n\u001b[1;32m    260\u001b[0m         estimator,\n\u001b[0;32m   (...)\u001b[0m\n\u001b[1;32m    270\u001b[0m     \u001b[38;5;28;01mfor\u001b[39;00m col_idx \u001b[38;5;129;01min\u001b[39;00m \u001b[38;5;28mrange\u001b[39m(X\u001b[38;5;241m.\u001b[39mshape[\u001b[38;5;241m1\u001b[39m])\n\u001b[1;32m    271\u001b[0m )\n\u001b[1;32m    273\u001b[0m \u001b[38;5;28;01mif\u001b[39;00m \u001b[38;5;28misinstance\u001b[39m(baseline_score, \u001b[38;5;28mdict\u001b[39m):\n",
      "File \u001b[0;32m~/miniconda3/envs/mlp/lib/python3.9/site-packages/sklearn/inspection/_permutation_importance.py:18\u001b[0m, in \u001b[0;36m_weights_scorer\u001b[0;34m(scorer, estimator, X, y, sample_weight)\u001b[0m\n\u001b[1;32m     16\u001b[0m \u001b[38;5;28;01mif\u001b[39;00m sample_weight \u001b[38;5;129;01mis\u001b[39;00m \u001b[38;5;129;01mnot\u001b[39;00m \u001b[38;5;28;01mNone\u001b[39;00m:\n\u001b[1;32m     17\u001b[0m     \u001b[38;5;28;01mreturn\u001b[39;00m scorer(estimator, X, y, sample_weight)\n\u001b[0;32m---> 18\u001b[0m \u001b[38;5;28;01mreturn\u001b[39;00m \u001b[43mscorer\u001b[49m\u001b[43m(\u001b[49m\u001b[43mestimator\u001b[49m\u001b[43m,\u001b[49m\u001b[43m \u001b[49m\u001b[43mX\u001b[49m\u001b[43m,\u001b[49m\u001b[43m \u001b[49m\u001b[43my\u001b[49m\u001b[43m)\u001b[49m\n",
      "File \u001b[0;32m~/miniconda3/envs/mlp/lib/python3.9/site-packages/sklearn/metrics/_scorer.py:234\u001b[0m, in \u001b[0;36m_BaseScorer.__call__\u001b[0;34m(self, estimator, X, y_true, sample_weight)\u001b[0m\n\u001b[1;32m    211\u001b[0m \u001b[38;5;28;01mdef\u001b[39;00m\u001b[38;5;250m \u001b[39m\u001b[38;5;21m__call__\u001b[39m(\u001b[38;5;28mself\u001b[39m, estimator, X, y_true, sample_weight\u001b[38;5;241m=\u001b[39m\u001b[38;5;28;01mNone\u001b[39;00m):\n\u001b[1;32m    212\u001b[0m \u001b[38;5;250m    \u001b[39m\u001b[38;5;124;03m\"\"\"Evaluate predicted target values for X relative to y_true.\u001b[39;00m\n\u001b[1;32m    213\u001b[0m \n\u001b[1;32m    214\u001b[0m \u001b[38;5;124;03m    Parameters\u001b[39;00m\n\u001b[0;32m   (...)\u001b[0m\n\u001b[1;32m    232\u001b[0m \u001b[38;5;124;03m        Score function applied to prediction of estimator on X.\u001b[39;00m\n\u001b[1;32m    233\u001b[0m \u001b[38;5;124;03m    \"\"\"\u001b[39;00m\n\u001b[0;32m--> 234\u001b[0m     \u001b[38;5;28;01mreturn\u001b[39;00m \u001b[38;5;28;43mself\u001b[39;49m\u001b[38;5;241;43m.\u001b[39;49m\u001b[43m_score\u001b[49m\u001b[43m(\u001b[49m\n\u001b[1;32m    235\u001b[0m \u001b[43m        \u001b[49m\u001b[43mpartial\u001b[49m\u001b[43m(\u001b[49m\u001b[43m_cached_call\u001b[49m\u001b[43m,\u001b[49m\u001b[43m \u001b[49m\u001b[38;5;28;43;01mNone\u001b[39;49;00m\u001b[43m)\u001b[49m\u001b[43m,\u001b[49m\n\u001b[1;32m    236\u001b[0m \u001b[43m        \u001b[49m\u001b[43mestimator\u001b[49m\u001b[43m,\u001b[49m\n\u001b[1;32m    237\u001b[0m \u001b[43m        \u001b[49m\u001b[43mX\u001b[49m\u001b[43m,\u001b[49m\n\u001b[1;32m    238\u001b[0m \u001b[43m        \u001b[49m\u001b[43my_true\u001b[49m\u001b[43m,\u001b[49m\n\u001b[1;32m    239\u001b[0m \u001b[43m        \u001b[49m\u001b[43msample_weight\u001b[49m\u001b[38;5;241;43m=\u001b[39;49m\u001b[43msample_weight\u001b[49m\u001b[43m,\u001b[49m\n\u001b[1;32m    240\u001b[0m \u001b[43m    \u001b[49m\u001b[43m)\u001b[49m\n",
      "File \u001b[0;32m~/miniconda3/envs/mlp/lib/python3.9/site-packages/sklearn/metrics/_scorer.py:282\u001b[0m, in \u001b[0;36m_PredictScorer._score\u001b[0;34m(self, method_caller, estimator, X, y_true, sample_weight)\u001b[0m\n\u001b[1;32m    278\u001b[0m     \u001b[38;5;28;01mreturn\u001b[39;00m \u001b[38;5;28mself\u001b[39m\u001b[38;5;241m.\u001b[39m_sign \u001b[38;5;241m*\u001b[39m \u001b[38;5;28mself\u001b[39m\u001b[38;5;241m.\u001b[39m_score_func(\n\u001b[1;32m    279\u001b[0m         y_true, y_pred, sample_weight\u001b[38;5;241m=\u001b[39msample_weight, \u001b[38;5;241m*\u001b[39m\u001b[38;5;241m*\u001b[39m\u001b[38;5;28mself\u001b[39m\u001b[38;5;241m.\u001b[39m_kwargs\n\u001b[1;32m    280\u001b[0m     )\n\u001b[1;32m    281\u001b[0m \u001b[38;5;28;01melse\u001b[39;00m:\n\u001b[0;32m--> 282\u001b[0m     \u001b[38;5;28;01mreturn\u001b[39;00m \u001b[38;5;28mself\u001b[39m\u001b[38;5;241m.\u001b[39m_sign \u001b[38;5;241m*\u001b[39m \u001b[38;5;28;43mself\u001b[39;49m\u001b[38;5;241;43m.\u001b[39;49m\u001b[43m_score_func\u001b[49m\u001b[43m(\u001b[49m\u001b[43my_true\u001b[49m\u001b[43m,\u001b[49m\u001b[43m \u001b[49m\u001b[43my_pred\u001b[49m\u001b[43m,\u001b[49m\u001b[43m \u001b[49m\u001b[38;5;241;43m*\u001b[39;49m\u001b[38;5;241;43m*\u001b[39;49m\u001b[38;5;28;43mself\u001b[39;49m\u001b[38;5;241;43m.\u001b[39;49m\u001b[43m_kwargs\u001b[49m\u001b[43m)\u001b[49m\n",
      "File \u001b[0;32m~/miniconda3/envs/mlp/lib/python3.9/site-packages/sklearn/utils/_param_validation.py:192\u001b[0m, in \u001b[0;36mvalidate_params.<locals>.decorator.<locals>.wrapper\u001b[0;34m(*args, **kwargs)\u001b[0m\n\u001b[1;32m    187\u001b[0m validate_parameter_constraints(\n\u001b[1;32m    188\u001b[0m     parameter_constraints, params, caller_name\u001b[38;5;241m=\u001b[39mfunc\u001b[38;5;241m.\u001b[39m\u001b[38;5;18m__qualname__\u001b[39m\n\u001b[1;32m    189\u001b[0m )\n\u001b[1;32m    191\u001b[0m \u001b[38;5;28;01mtry\u001b[39;00m:\n\u001b[0;32m--> 192\u001b[0m     \u001b[38;5;28;01mreturn\u001b[39;00m \u001b[43mfunc\u001b[49m\u001b[43m(\u001b[49m\u001b[38;5;241;43m*\u001b[39;49m\u001b[43margs\u001b[49m\u001b[43m,\u001b[49m\u001b[43m \u001b[49m\u001b[38;5;241;43m*\u001b[39;49m\u001b[38;5;241;43m*\u001b[39;49m\u001b[43mkwargs\u001b[49m\u001b[43m)\u001b[49m\n\u001b[1;32m    193\u001b[0m \u001b[38;5;28;01mexcept\u001b[39;00m InvalidParameterError \u001b[38;5;28;01mas\u001b[39;00m e:\n\u001b[1;32m    194\u001b[0m     \u001b[38;5;66;03m# When the function is just a wrapper around an estimator, we allow\u001b[39;00m\n\u001b[1;32m    195\u001b[0m     \u001b[38;5;66;03m# the function to delegate validation to the estimator, but we replace\u001b[39;00m\n\u001b[1;32m    196\u001b[0m     \u001b[38;5;66;03m# the name of the estimator by the name of the function in the error\u001b[39;00m\n\u001b[1;32m    197\u001b[0m     \u001b[38;5;66;03m# message to avoid confusion.\u001b[39;00m\n\u001b[1;32m    198\u001b[0m     msg \u001b[38;5;241m=\u001b[39m re\u001b[38;5;241m.\u001b[39msub(\n\u001b[1;32m    199\u001b[0m         \u001b[38;5;124mr\u001b[39m\u001b[38;5;124m\"\u001b[39m\u001b[38;5;124mparameter of \u001b[39m\u001b[38;5;124m\\\u001b[39m\u001b[38;5;124mw+ must be\u001b[39m\u001b[38;5;124m\"\u001b[39m,\n\u001b[1;32m    200\u001b[0m         \u001b[38;5;124mf\u001b[39m\u001b[38;5;124m\"\u001b[39m\u001b[38;5;124mparameter of \u001b[39m\u001b[38;5;132;01m{\u001b[39;00mfunc\u001b[38;5;241m.\u001b[39m\u001b[38;5;18m__qualname__\u001b[39m\u001b[38;5;132;01m}\u001b[39;00m\u001b[38;5;124m must be\u001b[39m\u001b[38;5;124m\"\u001b[39m,\n\u001b[1;32m    201\u001b[0m         \u001b[38;5;28mstr\u001b[39m(e),\n\u001b[1;32m    202\u001b[0m     )\n",
      "File \u001b[0;32m~/miniconda3/envs/mlp/lib/python3.9/site-packages/sklearn/metrics/_classification.py:221\u001b[0m, in \u001b[0;36maccuracy_score\u001b[0;34m(y_true, y_pred, normalize, sample_weight)\u001b[0m\n\u001b[1;32m    155\u001b[0m \u001b[38;5;250m\u001b[39m\u001b[38;5;124;03m\"\"\"Accuracy classification score.\u001b[39;00m\n\u001b[1;32m    156\u001b[0m \n\u001b[1;32m    157\u001b[0m \u001b[38;5;124;03mIn multilabel classification, this function computes subset accuracy:\u001b[39;00m\n\u001b[0;32m   (...)\u001b[0m\n\u001b[1;32m    217\u001b[0m \u001b[38;5;124;03m0.5\u001b[39;00m\n\u001b[1;32m    218\u001b[0m \u001b[38;5;124;03m\"\"\"\u001b[39;00m\n\u001b[1;32m    220\u001b[0m \u001b[38;5;66;03m# Compute accuracy for each possible representation\u001b[39;00m\n\u001b[0;32m--> 221\u001b[0m y_type, y_true, y_pred \u001b[38;5;241m=\u001b[39m \u001b[43m_check_targets\u001b[49m\u001b[43m(\u001b[49m\u001b[43my_true\u001b[49m\u001b[43m,\u001b[49m\u001b[43m \u001b[49m\u001b[43my_pred\u001b[49m\u001b[43m)\u001b[49m\n\u001b[1;32m    222\u001b[0m check_consistent_length(y_true, y_pred, sample_weight)\n\u001b[1;32m    223\u001b[0m \u001b[38;5;28;01mif\u001b[39;00m y_type\u001b[38;5;241m.\u001b[39mstartswith(\u001b[38;5;124m\"\u001b[39m\u001b[38;5;124mmultilabel\u001b[39m\u001b[38;5;124m\"\u001b[39m):\n",
      "File \u001b[0;32m~/miniconda3/envs/mlp/lib/python3.9/site-packages/sklearn/metrics/_classification.py:106\u001b[0m, in \u001b[0;36m_check_targets\u001b[0;34m(y_true, y_pred)\u001b[0m\n\u001b[1;32m    104\u001b[0m \u001b[38;5;66;03m# No metrics support \"multiclass-multioutput\" format\u001b[39;00m\n\u001b[1;32m    105\u001b[0m \u001b[38;5;28;01mif\u001b[39;00m y_type \u001b[38;5;129;01mnot\u001b[39;00m \u001b[38;5;129;01min\u001b[39;00m [\u001b[38;5;124m\"\u001b[39m\u001b[38;5;124mbinary\u001b[39m\u001b[38;5;124m\"\u001b[39m, \u001b[38;5;124m\"\u001b[39m\u001b[38;5;124mmulticlass\u001b[39m\u001b[38;5;124m\"\u001b[39m, \u001b[38;5;124m\"\u001b[39m\u001b[38;5;124mmultilabel-indicator\u001b[39m\u001b[38;5;124m\"\u001b[39m]:\n\u001b[0;32m--> 106\u001b[0m     \u001b[38;5;28;01mraise\u001b[39;00m \u001b[38;5;167;01mValueError\u001b[39;00m(\u001b[38;5;124m\"\u001b[39m\u001b[38;5;132;01m{0}\u001b[39;00m\u001b[38;5;124m is not supported\u001b[39m\u001b[38;5;124m\"\u001b[39m\u001b[38;5;241m.\u001b[39mformat(y_type))\n\u001b[1;32m    108\u001b[0m \u001b[38;5;28;01mif\u001b[39;00m y_type \u001b[38;5;129;01min\u001b[39;00m [\u001b[38;5;124m\"\u001b[39m\u001b[38;5;124mbinary\u001b[39m\u001b[38;5;124m\"\u001b[39m, \u001b[38;5;124m\"\u001b[39m\u001b[38;5;124mmulticlass\u001b[39m\u001b[38;5;124m\"\u001b[39m]:\n\u001b[1;32m    109\u001b[0m     y_true \u001b[38;5;241m=\u001b[39m column_or_1d(y_true)\n",
      "\u001b[0;31mValueError\u001b[0m: continuous is not supported"
     ]
    }
   ],
   "source": [
    "from sklearn.inspection import permutation_importance\n",
    "# Assuming model, X_val, and y_val are defined\n",
    "results = permutation_importance(reg_fitted, X_val, y_val, scoring='accuracy')\n",
    "importances = results.importances_mean\n",
    "importances"
   ]
  },
  {
   "cell_type": "code",
   "execution_count": null,
   "id": "44ed55eb-e410-4a83-b116-76e33d27ab57",
   "metadata": {},
   "outputs": [],
   "source": [
    "print(\"\"\"Best parameters:\n",
    "- max_depth=%d\n",
    "- learning_rate=%.6f\n",
    "- max_features=%d\n",
    "- min_samples_split=%d\n",
    "- min_samples_leaf=%d\"\"\" % (res_gp.x[0], res_gp.x[1],\n",
    "                            res_gp.x[2], res_gp.x[3],\n",
    "                            res_gp.x[4]))"
   ]
  },
  {
   "cell_type": "code",
   "execution_count": null,
   "id": "5c1e5452-c63b-4bd8-98e7-fda92e86e519",
   "metadata": {},
   "outputs": [],
   "source": [
    "###Genetic Optimization"
   ]
  },
  {
   "cell_type": "code",
   "execution_count": 19,
   "id": "331374f1-c0ed-4911-95ac-fcd54252e8c2",
   "metadata": {},
   "outputs": [
    {
     "data": {
      "text/html": [
       "<div>\n",
       "<style scoped>\n",
       "    .dataframe tbody tr th:only-of-type {\n",
       "        vertical-align: middle;\n",
       "    }\n",
       "\n",
       "    .dataframe tbody tr th {\n",
       "        vertical-align: top;\n",
       "    }\n",
       "\n",
       "    .dataframe thead th {\n",
       "        text-align: right;\n",
       "    }\n",
       "</style>\n",
       "<table border=\"1\" class=\"dataframe\">\n",
       "  <thead>\n",
       "    <tr style=\"text-align: right;\">\n",
       "      <th></th>\n",
       "      <th>0</th>\n",
       "      <th>1</th>\n",
       "      <th>2</th>\n",
       "      <th>3</th>\n",
       "      <th>4</th>\n",
       "    </tr>\n",
       "  </thead>\n",
       "  <tbody>\n",
       "    <tr>\n",
       "      <th>0</th>\n",
       "      <td>0.975120</td>\n",
       "      <td>-0.677162</td>\n",
       "      <td>-0.012247</td>\n",
       "      <td>-0.897254</td>\n",
       "      <td>0.075805</td>\n",
       "    </tr>\n",
       "    <tr>\n",
       "      <th>1</th>\n",
       "      <td>0.081874</td>\n",
       "      <td>-0.485364</td>\n",
       "      <td>0.758969</td>\n",
       "      <td>-0.772825</td>\n",
       "      <td>-0.236819</td>\n",
       "    </tr>\n",
       "    <tr>\n",
       "      <th>2</th>\n",
       "      <td>-1.412304</td>\n",
       "      <td>-0.908024</td>\n",
       "      <td>-0.562288</td>\n",
       "      <td>-1.012831</td>\n",
       "      <td>0.314247</td>\n",
       "    </tr>\n",
       "    <tr>\n",
       "      <th>3</th>\n",
       "      <td>-0.645120</td>\n",
       "      <td>0.361636</td>\n",
       "      <td>1.356240</td>\n",
       "      <td>-0.072010</td>\n",
       "      <td>1.003533</td>\n",
       "    </tr>\n",
       "    <tr>\n",
       "      <th>4</th>\n",
       "      <td>-0.622700</td>\n",
       "      <td>0.280992</td>\n",
       "      <td>-1.952088</td>\n",
       "      <td>-0.151785</td>\n",
       "      <td>0.588317</td>\n",
       "    </tr>\n",
       "    <tr>\n",
       "      <th>...</th>\n",
       "      <td>...</td>\n",
       "      <td>...</td>\n",
       "      <td>...</td>\n",
       "      <td>...</td>\n",
       "      <td>...</td>\n",
       "    </tr>\n",
       "    <tr>\n",
       "      <th>95</th>\n",
       "      <td>-1.514847</td>\n",
       "      <td>-0.846794</td>\n",
       "      <td>0.714000</td>\n",
       "      <td>0.473238</td>\n",
       "      <td>-0.072829</td>\n",
       "    </tr>\n",
       "    <tr>\n",
       "      <th>96</th>\n",
       "      <td>-0.773010</td>\n",
       "      <td>0.097676</td>\n",
       "      <td>-0.401220</td>\n",
       "      <td>0.224092</td>\n",
       "      <td>0.012592</td>\n",
       "    </tr>\n",
       "    <tr>\n",
       "      <th>97</th>\n",
       "      <td>1.031000</td>\n",
       "      <td>0.611676</td>\n",
       "      <td>0.324084</td>\n",
       "      <td>-0.385082</td>\n",
       "      <td>-0.676922</td>\n",
       "    </tr>\n",
       "    <tr>\n",
       "      <th>98</th>\n",
       "      <td>-0.234587</td>\n",
       "      <td>0.005113</td>\n",
       "      <td>-1.463515</td>\n",
       "      <td>0.296120</td>\n",
       "      <td>0.261055</td>\n",
       "    </tr>\n",
       "    <tr>\n",
       "      <th>99</th>\n",
       "      <td>-0.471038</td>\n",
       "      <td>-0.506943</td>\n",
       "      <td>-0.822220</td>\n",
       "      <td>0.243687</td>\n",
       "      <td>0.244967</td>\n",
       "    </tr>\n",
       "  </tbody>\n",
       "</table>\n",
       "<p>100 rows × 5 columns</p>\n",
       "</div>"
      ],
      "text/plain": [
       "           0         1         2         3         4\n",
       "0   0.975120 -0.677162 -0.012247 -0.897254  0.075805\n",
       "1   0.081874 -0.485364  0.758969 -0.772825 -0.236819\n",
       "2  -1.412304 -0.908024 -0.562288 -1.012831  0.314247\n",
       "3  -0.645120  0.361636  1.356240 -0.072010  1.003533\n",
       "4  -0.622700  0.280992 -1.952088 -0.151785  0.588317\n",
       "..       ...       ...       ...       ...       ...\n",
       "95 -1.514847 -0.846794  0.714000  0.473238 -0.072829\n",
       "96 -0.773010  0.097676 -0.401220  0.224092  0.012592\n",
       "97  1.031000  0.611676  0.324084 -0.385082 -0.676922\n",
       "98 -0.234587  0.005113 -1.463515  0.296120  0.261055\n",
       "99 -0.471038 -0.506943 -0.822220  0.243687  0.244967\n",
       "\n",
       "[100 rows x 5 columns]"
      ]
     },
     "execution_count": 19,
     "metadata": {},
     "output_type": "execute_result"
    }
   ],
   "source": [
    "import pandas as pd\n",
    "pd.DataFrame(X)"
   ]
  },
  {
   "cell_type": "code",
   "execution_count": 24,
   "id": "5a470b2d-6045-42d0-b3cb-3ca89c1dc992",
   "metadata": {},
   "outputs": [
    {
     "data": {
      "text/html": [
       "<div>\n",
       "<style scoped>\n",
       "    .dataframe tbody tr th:only-of-type {\n",
       "        vertical-align: middle;\n",
       "    }\n",
       "\n",
       "    .dataframe tbody tr th {\n",
       "        vertical-align: top;\n",
       "    }\n",
       "\n",
       "    .dataframe thead th {\n",
       "        text-align: right;\n",
       "    }\n",
       "</style>\n",
       "<table border=\"1\" class=\"dataframe\">\n",
       "  <thead>\n",
       "    <tr style=\"text-align: right;\">\n",
       "      <th></th>\n",
       "      <th>0</th>\n",
       "    </tr>\n",
       "  </thead>\n",
       "  <tbody>\n",
       "    <tr>\n",
       "      <th>0</th>\n",
       "      <td>-58.617987</td>\n",
       "    </tr>\n",
       "    <tr>\n",
       "      <th>1</th>\n",
       "      <td>-47.475843</td>\n",
       "    </tr>\n",
       "    <tr>\n",
       "      <th>2</th>\n",
       "      <td>-258.696834</td>\n",
       "    </tr>\n",
       "    <tr>\n",
       "      <th>3</th>\n",
       "      <td>116.096971</td>\n",
       "    </tr>\n",
       "    <tr>\n",
       "      <th>4</th>\n",
       "      <td>-123.443012</td>\n",
       "    </tr>\n",
       "    <tr>\n",
       "      <th>...</th>\n",
       "      <td>...</td>\n",
       "    </tr>\n",
       "    <tr>\n",
       "      <th>95</th>\n",
       "      <td>-104.006385</td>\n",
       "    </tr>\n",
       "    <tr>\n",
       "      <th>96</th>\n",
       "      <td>-49.580547</td>\n",
       "    </tr>\n",
       "    <tr>\n",
       "      <th>97</th>\n",
       "      <td>98.036917</td>\n",
       "    </tr>\n",
       "    <tr>\n",
       "      <th>98</th>\n",
       "      <td>-80.419593</td>\n",
       "    </tr>\n",
       "    <tr>\n",
       "      <th>99</th>\n",
       "      <td>-109.260527</td>\n",
       "    </tr>\n",
       "  </tbody>\n",
       "</table>\n",
       "<p>100 rows × 1 columns</p>\n",
       "</div>"
      ],
      "text/plain": [
       "             0\n",
       "0   -58.617987\n",
       "1   -47.475843\n",
       "2  -258.696834\n",
       "3   116.096971\n",
       "4  -123.443012\n",
       "..         ...\n",
       "95 -104.006385\n",
       "96  -49.580547\n",
       "97   98.036917\n",
       "98  -80.419593\n",
       "99 -109.260527\n",
       "\n",
       "[100 rows x 1 columns]"
      ]
     },
     "execution_count": 24,
     "metadata": {},
     "output_type": "execute_result"
    }
   ],
   "source": [
    "pd.DataFrame(y)"
   ]
  },
  {
   "cell_type": "code",
   "execution_count": 28,
   "id": "685ed94c-706c-4005-bf47-5de1f639ef35",
   "metadata": {},
   "outputs": [
    {
     "name": "stdout",
     "output_type": "stream",
     "text": [
      "chromsome=[array([0.24972385, 0.1780544 , 0.31337234, 0.2604028 , 0.06816358])] y_chromosome=[77.14614143]\n",
      "chromsome=[array([0.15568669, 0.53448311, 0.77766452, 0.07148093, 0.27847306])] y_chromosome=[167.02923778]\n",
      "chromsome=[array([0.64596425, 0.69170855, 0.3055367 , 0.72932294, 0.78221831])] y_chromosome=[256.94381171]\n",
      "chromsome=[array([0.807408  , 0.52681091, 0.81651171, 0.17434748, 0.21529317])] y_chromosome=[230.95268853]\n",
      "chromsome=[array([0.15456247, 0.43289599, 0.93980882, 0.17357881, 0.6687629 ])] y_chromosome=[154.42339108]\n",
      "chromsome=[array([0.52713685, 0.61145693, 0.98724421, 0.43358316, 0.17685887])] y_chromosome=[229.20818599]\n",
      "chromsome=[array([0.97324271, 0.00453741, 0.45612286, 0.41523508, 0.69806702])] y_chromosome=[193.13461026]\n",
      "chromsome=[array([0.45088433, 0.03831957, 0.28420165, 0.82304482, 0.60965237])] y_chromosome=[154.32654301]\n",
      "chromsome=[array([0.0056963 , 0.76004061, 0.16914481, 0.6728487 , 0.61768938])] y_chromosome=[181.29857528]\n",
      "chromsome=[array([0.660554  , 0.96875374, 0.509993  , 0.83289593, 0.54858035])] y_chromosome=[302.43080631]\n",
      "chromsome=[array([0.87389645, 0.1161097 , 0.54773056, 0.48246086, 0.84649877])] y_chromosome=[201.05800587]\n",
      "chromsome=[array([0.36260958, 0.71902869, 0.21092823, 0.04548021, 0.51483155])] y_chromosome=[136.46748197]\n",
      "chromsome=[array([0.4396807 , 0.42154262, 0.96962441, 0.02584867, 0.80688128])] y_chromosome=[184.23943484]\n",
      "chromsome=[array([0.73869988, 0.26504995, 0.64118945, 0.71923404, 0.91603862])] y_chromosome=[224.22349302]\n",
      "chromsome=[array([0.29014402, 0.64727554, 0.95235129, 0.83963574, 0.1121072 ])] y_chromosome=[224.64145348]\n",
      "chromsome=[array([0.52690638, 0.93695237, 0.86753337, 0.001963  , 0.44535946])] y_chromosome=[234.72970668]\n",
      "chromsome=[array([0.65506882, 0.1796246 , 0.5322619 , 0.87127975, 0.12809432])] y_chromosome=[206.55767971]\n",
      "chromsome=[array([0.93070433, 0.81967146, 0.43894778, 0.67383637, 0.46500051])] y_chromosome=[288.39280088]\n",
      "chromsome=[array([4.24447504e-01, 5.83740597e-01, 5.23580117e-01, 4.38066503e-01,\n",
      "       1.91171258e-04])] y_chromosome=[195.03419876]\n",
      "chromsome=[array([0.98758605, 0.46385866, 0.62241648, 0.91391605, 0.4112469 ])] y_chromosome=[262.55833202]\n",
      "chromsome=[array([0.65476372, 0.76386506, 0.74859706, 0.4310671 , 0.26053095])] y_chromosome=[264.30309461]\n",
      "chromsome=[array([0.30128897, 0.18889962, 0.37535821, 0.05311593, 0.88774681])] y_chromosome=[98.86584934]\n",
      "chromsome=[array([0.77960471, 0.0625248 , 0.79287258, 0.14563269, 0.24300147])] y_chromosome=[175.78378639]\n",
      "chromsome=[array([0.52541754, 0.85563214, 0.2796736 , 0.62407668, 0.92722126])] y_chromosome=[240.56139706]\n",
      "chromsome=[array([0.90217878, 0.87452381, 0.74103092, 0.45817613, 0.82072439])] y_chromosome=[299.04855157]\n",
      "chromsome=[array([0.19157793, 0.96384102, 0.1222925 , 0.20380444, 0.02596289])] y_chromosome=[130.72229461]\n",
      "chromsome=[array([0.6867691 , 0.64381101, 0.57306859, 0.06410782, 0.78806183])] y_chromosome=[201.79802283]\n",
      "chromsome=[array([0.43906278, 0.9837389 , 0.87270113, 0.99816261, 0.66245998])] y_chromosome=[266.072334]\n",
      "chromsome=[array([0.32419999, 0.40153249, 0.69086823, 0.30240148, 0.98336635])] y_chromosome=[164.89417239]\n",
      "chromsome=[array([0.89904676, 0.20291303, 0.79777836, 0.16222651, 0.55210429])] y_chromosome=[202.65583066]\n",
      "chromsome=[array([0.42930343, 0.32812582, 0.17400597, 0.2044757 , 0.54063554])] y_chromosome=[119.93770568]\n",
      "chromsome=[array([0.10264401, 0.61270272, 0.97025757, 0.71581803, 0.53248114])] y_chromosome=[241.66560294]\n",
      "chromsome=[array([0.70563186, 0.71751739, 0.9371376 , 0.83626623, 0.34696535])] y_chromosome=[290.71386813]\n",
      "chromsome=[array([0.49307828, 0.28518632, 0.83602226, 0.30969815, 0.35344937])] y_chromosome=[176.43249421]\n",
      "chromsome=[array([0.80176351, 0.79818821, 0.61831978, 0.59851006, 0.14198277])] y_chromosome=[286.99758719]\n",
      "chromsome=[array([0.03520718, 0.95118692, 0.98294474, 0.18872068, 0.7867851 ])] y_chromosome=[194.91854191]\n",
      "chromsome=[array([0.3773552 , 0.76705824, 0.30090569, 0.39227907, 0.77121894])] y_chromosome=[201.50042538]\n",
      "chromsome=[array([0.29529768, 0.73718609, 0.61229074, 0.58474885, 0.14863767])] y_chromosome=[226.67937334]\n",
      "chromsome=[array([0.42175515, 0.90737733, 0.82578441, 0.88565338, 0.27296447])] y_chromosome=[277.92509972]\n",
      "chromsome=[array([0.44528322, 0.13459362, 0.07668299, 0.70839822, 0.22031932])] y_chromosome=[155.04982851]\n",
      "chromsome=[array([0.59219275, 0.07918919, 0.55958872, 0.49581209, 0.91982922])] y_chromosome=[179.19547659]\n",
      "chromsome=[array([0.52904848, 0.45723916, 0.67186079, 0.57083485, 0.27377687])] y_chromosome=[236.81856837]\n",
      "chromsome=[array([0.69175846, 0.70172905, 0.19369435, 0.98824106, 0.74483495])] y_chromosome=[238.98570303]\n",
      "chromsome=[array([0.47403763, 0.95536656, 0.96987438, 0.36376864, 0.24337164])] y_chromosome=[259.97122062]\n",
      "chromsome=[array([0.77301107, 0.4094385 , 0.88867448, 0.25306301, 0.4314198 ])] y_chromosome=[224.52484988]\n",
      "chromsome=[array([0.7516155 , 0.98754695, 0.00150969, 0.59255109, 0.54665629])] y_chromosome=[328.70957529]\n",
      "chromsome=[array([0.07875966, 0.95198583, 0.42729388, 0.16802502, 0.79258414])] y_chromosome=[168.22671757]\n",
      "chromsome=[array([0.97132403, 0.91581077, 0.60397274, 0.76894102, 0.24179715])] y_chromosome=[309.82597094]\n",
      "chromsome=[array([0.85605275, 0.38816842, 0.08959787, 0.15030409, 0.02559904])] y_chromosome=[131.20837086]\n",
      "chromsome=[array([0.8412118 , 0.12793647, 0.0951648 , 0.20706976, 0.6275438 ])] y_chromosome=[145.83548208]\n",
      "chromsome=[array([0.9445413 , 0.4443529 , 0.29301558, 0.56383564, 0.16425448])] y_chromosome=[256.76046955]\n",
      "chromsome=[array([0.88458011, 0.97346079, 0.99679102, 0.0392405 , 0.30330418])] y_chromosome=[273.50435672]\n",
      "chromsome=[array([0.1691852 , 0.99708564, 0.40110973, 0.37863786, 0.52375782])] y_chromosome=[221.23308947]\n",
      "chromsome=[array([0.92667654, 0.67119698, 0.20810163, 0.03474485, 0.03903096])] y_chromosome=[160.35115697]\n",
      "chromsome=[array([0.29653376, 0.42154977, 0.277323  , 0.11268144, 0.03450165])] y_chromosome=[98.90796798]\n",
      "chromsome=[array([0.73712728, 0.71962959, 0.58239749, 0.95050599, 0.32476178])] y_chromosome=[271.37570378]\n",
      "chromsome=[array([0.49191014, 0.37229797, 0.55537802, 0.87973183, 0.49559354])] y_chromosome=[216.34505889]\n",
      "chromsome=[array([0.25573147, 0.05776904, 0.17924682, 0.83128728, 0.34861927])] y_chromosome=[129.26883392]\n",
      "chromsome=[array([0.03800472, 0.98161589, 0.57291998, 0.63791136, 0.91958851])] y_chromosome=[244.94505227]\n",
      "chromsome=[array([0.9566422 , 0.90046927, 0.55452812, 0.41957383, 0.810743  ])] y_chromosome=[284.26723001]\n",
      "chromsome=[array([0.69026848, 0.32465128, 0.76323934, 0.0347403 , 0.11792923])] y_chromosome=[197.07230411]\n",
      "chromsome=[array([0.06426401, 0.68854228, 0.10651862, 0.52443694, 0.94420196])] y_chromosome=[198.38102476]\n",
      "chromsome=[array([0.63843337, 0.5196466 , 0.0362561 , 0.20648806, 0.17961681])] y_chromosome=[169.65168983]\n",
      "chromsome=[array([0.77064273, 0.28951048, 0.47550148, 0.67322745, 0.56369593])] y_chromosome=[219.49547221]\n",
      "chromsome=[array([0.79961278, 0.8302678 , 0.15441518, 0.46086057, 0.09734928])] y_chromosome=[260.13359113]\n",
      "chromsome=[array([0.76273616, 0.0735414 , 0.50212231, 0.50935529, 0.23440587])] y_chromosome=[213.81539227]\n",
      "chromsome=[array([0.57599455, 0.48579529, 0.61177309, 0.4032411 , 0.0199375 ])] y_chromosome=[179.96631356]\n",
      "chromsome=[array([0.56130037, 0.31846927, 0.18679548, 0.82843194, 0.74565084])] y_chromosome=[164.86324649]\n",
      "chromsome=[array([0.10346044, 0.24410036, 0.62243646, 0.45604325, 0.0813584 ])] y_chromosome=[131.32387878]\n",
      "chromsome=[array([0.93888751, 0.92429661, 0.05494973, 0.5459905 , 0.60595475])] y_chromosome=[320.65057918]\n",
      "chromsome=[array([0.35717307, 0.22734424, 0.24554149, 0.42540477, 0.66176219])] y_chromosome=[155.56437271]\n",
      "chromsome=[array([0.37554245, 0.31147628, 0.14411313, 0.67987384, 0.93384698])] y_chromosome=[156.09879879]\n",
      "chromsome=[array([0.80150889, 0.36556918, 0.12550107, 0.52030464, 0.30268059])] y_chromosome=[259.9877871]\n",
      "chromsome=[array([0.8803477 , 0.32544814, 0.06247855, 0.37028633, 0.55123772])] y_chromosome=[207.19918245]\n",
      "chromsome=[array([0.23571558, 0.68544937, 0.86092623, 0.45811844, 0.60163586])] y_chromosome=[203.6833645]\n",
      "chromsome=[array([0.09704606, 0.96044545, 0.42079792, 0.00529454, 0.87233906])] y_chromosome=[173.19842481]\n",
      "chromsome=[array([0.89217158, 0.007916  , 0.6302    , 0.98849484, 0.83574233])] y_chromosome=[206.00220439]\n",
      "chromsome=[array([0.40257132, 0.12062505, 0.63003623, 0.3921169 , 0.39086206])] y_chromosome=[164.39665957]\n",
      "chromsome=[array([0.15414651, 0.27841223, 0.37654807, 0.01728276, 0.19180434])] y_chromosome=[89.04216293]\n",
      "chromsome=[array([0.85869013, 0.45421205, 0.03339126, 0.80143849, 0.53656195])] y_chromosome=[252.55535176]\n",
      "chromsome=[array([0.35870639, 0.9422022 , 0.25882862, 0.78746007, 0.92604052])] y_chromosome=[239.32304154]\n",
      "chromsome=[array([0.45074932, 0.24080653, 0.1190464 , 0.66827723, 0.1774306 ])] y_chromosome=[174.72858341]\n",
      "chromsome=[array([0.45046427, 0.45121304, 0.26767241, 0.04826728, 0.80957109])] y_chromosome=[144.22329338]\n",
      "chromsome=[array([0.26069333, 0.89010697, 0.49814963, 0.10487608, 0.89482884])] y_chromosome=[169.52418486]\n",
      "chromsome=[array([0.51713124, 0.52768627, 0.34830006, 0.18899343, 0.35060005])] y_chromosome=[164.41823112]\n",
      "chromsome=[array([0.47345685, 0.03842418, 0.7055957 , 0.78614478, 0.08528193])] y_chromosome=[178.01967754]\n",
      "chromsome=[array([0.33774105, 0.08093028, 0.09666785, 0.50723605, 0.39834913])] y_chromosome=[159.61535672]\n",
      "chromsome=[array([0.3302257 , 0.41776587, 0.556646  , 0.6982147 , 0.95105499])] y_chromosome=[190.76057462]\n",
      "chromsome=[array([0.76353844, 0.36003734, 0.26846679, 0.08228896, 0.7816282 ])] y_chromosome=[179.11243853]\n",
      "chromsome=[array([0.19103609, 0.48986752, 0.24285157, 0.2224632 , 0.93786696])] y_chromosome=[111.69135626]\n",
      "chromsome=[array([0.46728407, 0.18134774, 0.01994827, 0.57274463, 0.4951173 ])] y_chromosome=[184.12697224]\n",
      "chromsome=[array([0.83169133, 0.22575596, 0.2383355 , 0.15975916, 0.54170258])] y_chromosome=[160.15999125]\n",
      "chromsome=[array([0.45111409, 0.41031013, 0.31718418, 0.08721135, 0.4056973 ])] y_chromosome=[146.94150526]\n",
      "chromsome=[array([0.6814247 , 0.95279019, 0.57899005, 0.90783758, 0.88765618])] y_chromosome=[285.35111845]\n",
      "chromsome=[array([0.30956037, 0.18000754, 0.39310919, 0.61367311, 0.50192337])] y_chromosome=[170.77020732]\n",
      "chromsome=[array([0.74542122, 0.5624598 , 0.11193395, 0.70859028, 0.75472226])] y_chromosome=[248.92324703]\n",
      "chromsome=[array([0.34293628, 0.04698463, 0.16362981, 0.17135532, 0.71536212])] y_chromosome=[63.13289482]\n",
      "chromsome=[array([0.53655481, 0.37312958, 0.54876309, 0.51663286, 0.51381758])] y_chromosome=[229.53342882]\n",
      "chromsome=[array([0.86377535, 0.04566428, 0.8824863 , 0.51922096, 0.3154707 ])] y_chromosome=[247.2309782]\n",
      "chromsome=[array([0.69069992, 0.67487737, 0.28539979, 0.6361917 , 0.57903805])] y_chromosome=[269.20115462]\n"
     ]
    }
   ],
   "source": [
    "i = 100\n",
    "YC = []\n",
    "num_features = 5\n",
    "chromosomes  = []\n",
    "for  i in range(i):\n",
    "    chromosome = [np.random.random(size=num_features)]\n",
    "    y_chromosome = reg_fitted.predict(chromosome)\n",
    "    print(f'chromsome={chromosome} y_chromosome={y_chromosome}')\n",
    "    YC.append(y_chromosome[0])\n",
    "    chromosomes.append(chromosome)\n",
    "    "
   ]
  },
  {
   "cell_type": "code",
   "execution_count": 27,
   "id": "b414eead-8a52-4292-ab8a-591e7c1e42c5",
   "metadata": {},
   "outputs": [
    {
     "data": {
      "text/plain": [
       "83"
      ]
     },
     "execution_count": 27,
     "metadata": {},
     "output_type": "execute_result"
    }
   ],
   "source": [
    "np.argmin(YC)"
   ]
  },
  {
   "cell_type": "code",
   "execution_count": 29,
   "id": "ebd664c4-af15-4fb6-b6ea-75b7ff12194c",
   "metadata": {},
   "outputs": [
    {
     "data": {
      "text/plain": [
       "[array([0.34293628, 0.04698463, 0.16362981, 0.17135532, 0.71536212])]"
      ]
     },
     "execution_count": 29,
     "metadata": {},
     "output_type": "execute_result"
    }
   ],
   "source": [
    "chromosomes[np.argmin(YC)]"
   ]
  },
  {
   "cell_type": "code",
   "execution_count": null,
   "id": "b72eaf6e-26f8-4be6-b2f4-1e9545fbabb9",
   "metadata": {},
   "outputs": [],
   "source": []
  }
 ],
 "metadata": {
  "kernelspec": {
   "display_name": "Python 3 (ipykernel)",
   "language": "python",
   "name": "python3"
  },
  "language_info": {
   "codemirror_mode": {
    "name": "ipython",
    "version": 3
   },
   "file_extension": ".py",
   "mimetype": "text/x-python",
   "name": "python",
   "nbconvert_exporter": "python",
   "pygments_lexer": "ipython3",
   "version": "3.9.21"
  }
 },
 "nbformat": 4,
 "nbformat_minor": 5
}
